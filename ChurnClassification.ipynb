{
 "cells": [
  {
   "cell_type": "markdown",
   "id": "4de0660e",
   "metadata": {},
   "source": [
    "## Import libraries"
   ]
  },
  {
   "cell_type": "code",
   "execution_count": 1,
   "id": "b1c49082",
   "metadata": {},
   "outputs": [],
   "source": [
    "import findspark #to make pyspark importable as a regular library\n",
    "findspark.init('/home/sony/spark-3.3.0-bin-hadoop2') #my spark folder location"
   ]
  },
  {
   "cell_type": "code",
   "execution_count": 2,
   "id": "2aaebfe8",
   "metadata": {},
   "outputs": [],
   "source": [
    "from pyspark.sql import SparkSession #to start a pyspark dataframe and SQL functionality\n",
    "from pyspark.sql.types import StructField, StringType, IntegerType, StructType #common dtypes\n",
    "from pyspark.sql.functions import (count, countDistinct, isnull, corr, when, col, avg, stddev, mean, min, max, \n",
    "                                   date_format, format_number, hour, dayofmonth, dayofyear, weekofyear, \n",
    "                                   month, year) #common functions\n",
    "from pyspark.ml import Pipeline #to create pipeline for deployment\n",
    "from pyspark.ml.classification import (DecisionTreeClassifier, RandomForestClassifier, \n",
    "                                       GBTClassifier, LogisticRegression) #classification algorithms                                    \n",
    "from pyspark.ml.linalg import Vectors\n",
    "from pyspark.ml.feature import (VectorAssembler, StringIndexer, OneHotEncoder, \n",
    "                                Imputer, StandardScaler) #for data preprocessing\n",
    "from pyspark.ml.evaluation import BinaryClassificationEvaluator, MulticlassClassificationEvaluator #for model evaluation\n",
    "from pyspark.mllib.evaluation import MulticlassMetrics #for model evaluation "
   ]
  },
  {
   "cell_type": "markdown",
   "id": "bb60e076",
   "metadata": {},
   "source": [
    "## Spark session"
   ]
  },
  {
   "cell_type": "code",
   "execution_count": 3,
   "id": "38740a2e",
   "metadata": {},
   "outputs": [
    {
     "name": "stdout",
     "output_type": "stream",
     "text": [
      "22/08/18 18:12:59 WARN Utils: Your hostname, sony-VirtualBox resolves to a loopback address: 127.0.1.1; using 10.0.2.15 instead (on interface enp0s3)\n",
      "22/08/18 18:12:59 WARN Utils: Set SPARK_LOCAL_IP if you need to bind to another address\n"
     ]
    },
    {
     "name": "stderr",
     "output_type": "stream",
     "text": [
      "Setting default log level to \"WARN\".\n",
      "To adjust logging level use sc.setLogLevel(newLevel). For SparkR, use setLogLevel(newLevel).\n"
     ]
    },
    {
     "name": "stdout",
     "output_type": "stream",
     "text": [
      "22/08/18 18:13:00 WARN NativeCodeLoader: Unable to load native-hadoop library for your platform... using builtin-java classes where applicable\n"
     ]
    }
   ],
   "source": [
    "spark = SparkSession.builder.appName('Churn').getOrCreate() #this is the entry point to spark to work with RDD, DataFrame, or Dataset"
   ]
  },
  {
   "cell_type": "markdown",
   "id": "37e3e740",
   "metadata": {},
   "source": [
    "## Load dataset"
   ]
  },
  {
   "cell_type": "code",
   "execution_count": 4,
   "id": "1138e804",
   "metadata": {},
   "outputs": [],
   "source": [
    "raw = spark.read.csv('/home/sony/Churn_Modelling.csv', \n",
    "                     inferSchema=True, header=True) #load the dataset"
   ]
  },
  {
   "cell_type": "markdown",
   "id": "16b2d9a6",
   "metadata": {},
   "source": [
    "## Data understanding"
   ]
  },
  {
   "cell_type": "code",
   "execution_count": 5,
   "id": "23f02aea",
   "metadata": {
    "scrolled": true
   },
   "outputs": [
    {
     "name": "stdout",
     "output_type": "stream",
     "text": [
      "root\n",
      " |-- RowNumber: integer (nullable = true)\n",
      " |-- CustomerId: integer (nullable = true)\n",
      " |-- Surname: string (nullable = true)\n",
      " |-- CreditScore: integer (nullable = true)\n",
      " |-- Geography: string (nullable = true)\n",
      " |-- Gender: string (nullable = true)\n",
      " |-- Age: integer (nullable = true)\n",
      " |-- Tenure: integer (nullable = true)\n",
      " |-- Balance: double (nullable = true)\n",
      " |-- NumOfProducts: integer (nullable = true)\n",
      " |-- HasCrCard: integer (nullable = true)\n",
      " |-- IsActiveMember: integer (nullable = true)\n",
      " |-- EstimatedSalary: double (nullable = true)\n",
      " |-- Exited: integer (nullable = true)\n",
      "\n"
     ]
    }
   ],
   "source": [
    "raw.printSchema() #this is similar to .info() in pandas but without non-null values"
   ]
  },
  {
   "cell_type": "code",
   "execution_count": 6,
   "id": "ee6aeb8a",
   "metadata": {},
   "outputs": [
    {
     "name": "stdout",
     "output_type": "stream",
     "text": [
      "+---------+----------+---------+-----------+---------+------+---+------+---------+-------------+---------+--------------+---------------+------+\n",
      "|RowNumber|CustomerId|  Surname|CreditScore|Geography|Gender|Age|Tenure|  Balance|NumOfProducts|HasCrCard|IsActiveMember|EstimatedSalary|Exited|\n",
      "+---------+----------+---------+-----------+---------+------+---+------+---------+-------------+---------+--------------+---------------+------+\n",
      "|        1|  15634602| Hargrave|        619|   France|Female| 42|     2|      0.0|            1|        1|             1|      101348.88|     1|\n",
      "|        2|  15647311|     Hill|        608|    Spain|Female| 41|     1| 83807.86|            1|        0|             1|      112542.58|     0|\n",
      "|        3|  15619304|     Onio|        502|   France|Female| 42|     8| 159660.8|            3|        1|             0|      113931.57|     1|\n",
      "|        4|  15701354|     Boni|        699|   France|Female| 39|     1|      0.0|            2|        0|             0|       93826.63|     0|\n",
      "|        5|  15737888| Mitchell|        850|    Spain|Female| 43|     2|125510.82|            1|        1|             1|        79084.1|     0|\n",
      "|        6|  15574012|      Chu|        645|    Spain|  Male| 44|     8|113755.78|            2|        1|             0|      149756.71|     1|\n",
      "|        7|  15592531| Bartlett|        822|   France|  Male| 50|     7|      0.0|            2|        1|             1|        10062.8|     0|\n",
      "|        8|  15656148|   Obinna|        376|  Germany|Female| 29|     4|115046.74|            4|        1|             0|      119346.88|     1|\n",
      "|        9|  15792365|       He|        501|   France|  Male| 44|     4|142051.07|            2|        0|             1|        74940.5|     0|\n",
      "|       10|  15592389|       H?|        684|   France|  Male| 27|     2|134603.88|            1|        1|             1|       71725.73|     0|\n",
      "|       11|  15767821|   Bearce|        528|   France|  Male| 31|     6|102016.72|            2|        0|             0|       80181.12|     0|\n",
      "|       12|  15737173|  Andrews|        497|    Spain|  Male| 24|     3|      0.0|            2|        1|             0|       76390.01|     0|\n",
      "|       13|  15632264|      Kay|        476|   France|Female| 34|    10|      0.0|            2|        1|             0|       26260.98|     0|\n",
      "|       14|  15691483|     Chin|        549|   France|Female| 25|     5|      0.0|            2|        0|             0|      190857.79|     0|\n",
      "|       15|  15600882|    Scott|        635|    Spain|Female| 35|     7|      0.0|            2|        1|             1|       65951.65|     0|\n",
      "|       16|  15643966|  Goforth|        616|  Germany|  Male| 45|     3|143129.41|            2|        0|             1|       64327.26|     0|\n",
      "|       17|  15737452|    Romeo|        653|  Germany|  Male| 58|     1|132602.88|            1|        1|             0|        5097.67|     1|\n",
      "|       18|  15788218|Henderson|        549|    Spain|Female| 24|     9|      0.0|            2|        1|             1|       14406.41|     0|\n",
      "|       19|  15661507|  Muldrow|        587|    Spain|  Male| 45|     6|      0.0|            1|        0|             0|      158684.81|     0|\n",
      "|       20|  15568982|      Hao|        726|   France|Female| 24|     6|      0.0|            2|        1|             1|       54724.03|     0|\n",
      "+---------+----------+---------+-----------+---------+------+---+------+---------+-------------+---------+--------------+---------------+------+\n",
      "only showing top 20 rows\n",
      "\n"
     ]
    }
   ],
   "source": [
    "raw.show() #show all data"
   ]
  },
  {
   "cell_type": "code",
   "execution_count": 7,
   "id": "01a1d8ae",
   "metadata": {
    "scrolled": false
   },
   "outputs": [
    {
     "name": "stdout",
     "output_type": "stream",
     "text": [
      "-RECORD 0--------------------\n",
      " RowNumber       | 1         \n",
      " CustomerId      | 15634602  \n",
      " Surname         | Hargrave  \n",
      " CreditScore     | 619       \n",
      " Geography       | France    \n",
      " Gender          | Female    \n",
      " Age             | 42        \n",
      " Tenure          | 2         \n",
      " Balance         | 0.0       \n",
      " NumOfProducts   | 1         \n",
      " HasCrCard       | 1         \n",
      " IsActiveMember  | 1         \n",
      " EstimatedSalary | 101348.88 \n",
      " Exited          | 1         \n",
      "only showing top 1 row\n",
      "\n"
     ]
    }
   ],
   "source": [
    "raw.show(n=1, truncate=False, vertical=True) #show 1 row example from the dataset"
   ]
  },
  {
   "cell_type": "code",
   "execution_count": 8,
   "id": "079698c5",
   "metadata": {
    "scrolled": false
   },
   "outputs": [
    {
     "name": "stderr",
     "output_type": "stream",
     "text": [
      "\r",
      "[Stage 4:>                                                          (0 + 1) / 1]\r"
     ]
    },
    {
     "name": "stdout",
     "output_type": "stream",
     "text": [
      "-RECORD 0------------------------------\n",
      " summary         | count               \n",
      " RowNumber       | 10000               \n",
      " CustomerId      | 10000               \n",
      " Surname         | 10000               \n",
      " CreditScore     | 10000               \n",
      " Geography       | 10000               \n",
      " Gender          | 10000               \n",
      " Age             | 10000               \n",
      " Tenure          | 10000               \n",
      " Balance         | 10000               \n",
      " NumOfProducts   | 10000               \n",
      " HasCrCard       | 10000               \n",
      " IsActiveMember  | 10000               \n",
      " EstimatedSalary | 10000               \n",
      " Exited          | 10000               \n",
      "-RECORD 1------------------------------\n",
      " summary         | mean                \n",
      " RowNumber       | 5000.5              \n",
      " CustomerId      | 1.56909405694E7     \n",
      " Surname         | null                \n",
      " CreditScore     | 650.5288            \n",
      " Geography       | null                \n",
      " Gender          | null                \n",
      " Age             | 38.9218             \n",
      " Tenure          | 5.0128              \n",
      " Balance         | 76485.88928799961   \n",
      " NumOfProducts   | 1.5302              \n",
      " HasCrCard       | 0.7055              \n",
      " IsActiveMember  | 0.5151              \n",
      " EstimatedSalary | 100090.2398809998   \n",
      " Exited          | 0.2037              \n",
      "-RECORD 2------------------------------\n",
      " summary         | stddev              \n",
      " RowNumber       | 2886.8956799071675  \n",
      " CustomerId      | 71936.18612274907   \n",
      " Surname         | null                \n",
      " CreditScore     | 96.65329873613035   \n",
      " Geography       | null                \n",
      " Gender          | null                \n",
      " Age             | 10.487806451704587  \n",
      " Tenure          | 2.8921743770496837  \n",
      " Balance         | 62397.40520238599   \n",
      " NumOfProducts   | 0.5816543579989917  \n",
      " HasCrCard       | 0.45584046447513327 \n",
      " IsActiveMember  | 0.49979692845891815 \n",
      " EstimatedSalary | 57510.49281769821   \n",
      " Exited          | 0.40276858399486065 \n",
      "-RECORD 3------------------------------\n",
      " summary         | min                 \n",
      " RowNumber       | 1                   \n",
      " CustomerId      | 15565701            \n",
      " Surname         | Abazu               \n",
      " CreditScore     | 350                 \n",
      " Geography       | France              \n",
      " Gender          | Female              \n",
      " Age             | 18                  \n",
      " Tenure          | 0                   \n",
      " Balance         | 0.0                 \n",
      " NumOfProducts   | 1                   \n",
      " HasCrCard       | 0                   \n",
      " IsActiveMember  | 0                   \n",
      " EstimatedSalary | 11.58               \n",
      " Exited          | 0                   \n",
      "-RECORD 4------------------------------\n",
      " summary         | max                 \n",
      " RowNumber       | 10000               \n",
      " CustomerId      | 15815690            \n",
      " Surname         | Zuyeva              \n",
      " CreditScore     | 850                 \n",
      " Geography       | Spain               \n",
      " Gender          | Male                \n",
      " Age             | 92                  \n",
      " Tenure          | 10                  \n",
      " Balance         | 250898.09           \n",
      " NumOfProducts   | 4                   \n",
      " HasCrCard       | 1                   \n",
      " IsActiveMember  | 1                   \n",
      " EstimatedSalary | 199992.48           \n",
      " Exited          | 1                   \n",
      "\n"
     ]
    },
    {
     "name": "stderr",
     "output_type": "stream",
     "text": [
      "\r",
      "                                                                                \r"
     ]
    }
   ],
   "source": [
    "raw.describe().show(truncate=False, vertical=True) #statistics of each columns"
   ]
  },
  {
   "cell_type": "markdown",
   "id": "bba40ba9",
   "metadata": {},
   "source": [
    "## Missing values"
   ]
  },
  {
   "cell_type": "code",
   "execution_count": 9,
   "id": "1e56769d",
   "metadata": {},
   "outputs": [],
   "source": [
    "df = raw.alias('df') #create a copy the initial data"
   ]
  },
  {
   "cell_type": "code",
   "execution_count": 10,
   "id": "050f3d69",
   "metadata": {
    "scrolled": true
   },
   "outputs": [
    {
     "name": "stdout",
     "output_type": "stream",
     "text": [
      "+---------+----------+-------+-----------+---------+------+---+------+-------+-------------+---------+--------------+---------------+------+\n",
      "|RowNumber|CustomerId|Surname|CreditScore|Geography|Gender|Age|Tenure|Balance|NumOfProducts|HasCrCard|IsActiveMember|EstimatedSalary|Exited|\n",
      "+---------+----------+-------+-----------+---------+------+---+------+-------+-------------+---------+--------------+---------------+------+\n",
      "|        0|         0|      0|          0|        0|     0|  0|     0|      0|            0|        0|             0|              0|     0|\n",
      "+---------+----------+-------+-----------+---------+------+---+------+-------+-------------+---------+--------------+---------------+------+\n",
      "\n"
     ]
    }
   ],
   "source": [
    "df.select([count(when(col(c).isNull(), c)).alias(c) for c in df.columns]).show() #check missing values"
   ]
  },
  {
   "cell_type": "markdown",
   "id": "bf6b221d",
   "metadata": {},
   "source": [
    "## String indexer"
   ]
  },
  {
   "cell_type": "code",
   "execution_count": 11,
   "id": "435b3078",
   "metadata": {
    "scrolled": true
   },
   "outputs": [
    {
     "name": "stdout",
     "output_type": "stream",
     "text": [
      "root\n",
      " |-- RowNumber: integer (nullable = true)\n",
      " |-- CustomerId: integer (nullable = true)\n",
      " |-- Surname: string (nullable = true)\n",
      " |-- CreditScore: integer (nullable = true)\n",
      " |-- Geography: string (nullable = true)\n",
      " |-- Gender: string (nullable = true)\n",
      " |-- Age: integer (nullable = true)\n",
      " |-- Tenure: integer (nullable = true)\n",
      " |-- Balance: double (nullable = true)\n",
      " |-- NumOfProducts: integer (nullable = true)\n",
      " |-- HasCrCard: integer (nullable = true)\n",
      " |-- IsActiveMember: integer (nullable = true)\n",
      " |-- EstimatedSalary: double (nullable = true)\n",
      " |-- Exited: integer (nullable = true)\n",
      "\n"
     ]
    }
   ],
   "source": [
    "df.printSchema() #check which column is still in string dtype"
   ]
  },
  {
   "cell_type": "code",
   "execution_count": 12,
   "id": "cc525516",
   "metadata": {},
   "outputs": [
    {
     "name": "stdout",
     "output_type": "stream",
     "text": [
      "+---------+-----+\n",
      "|Geography|count|\n",
      "+---------+-----+\n",
      "|  Germany| 2509|\n",
      "|   France| 5014|\n",
      "|    Spain| 2477|\n",
      "+---------+-----+\n",
      "\n"
     ]
    }
   ],
   "source": [
    "df.groupBy('Geography').count().show()"
   ]
  },
  {
   "cell_type": "code",
   "execution_count": 13,
   "id": "439f459b",
   "metadata": {},
   "outputs": [
    {
     "name": "stdout",
     "output_type": "stream",
     "text": [
      "+------+-----+\n",
      "|Gender|count|\n",
      "+------+-----+\n",
      "|Female| 4543|\n",
      "|  Male| 5457|\n",
      "+------+-----+\n",
      "\n"
     ]
    }
   ],
   "source": [
    "df.groupBy('Gender').count().show()"
   ]
  },
  {
   "cell_type": "code",
   "execution_count": 14,
   "id": "2cd788d6",
   "metadata": {},
   "outputs": [],
   "source": [
    "stringIndexer = StringIndexer(inputCols=['Geography','Gender'], outputCols=['GeoIndex','GenderIndex'])\n",
    "df = stringIndexer.fit(df).transform(df)"
   ]
  },
  {
   "cell_type": "code",
   "execution_count": 15,
   "id": "a864c38e",
   "metadata": {
    "scrolled": true
   },
   "outputs": [
    {
     "name": "stdout",
     "output_type": "stream",
     "text": [
      "+---------+--------+------+-----------+\n",
      "|Geography|GeoIndex|Gender|GenderIndex|\n",
      "+---------+--------+------+-----------+\n",
      "|   France|     0.0|Female|        1.0|\n",
      "|    Spain|     2.0|Female|        1.0|\n",
      "|   France|     0.0|Female|        1.0|\n",
      "|   France|     0.0|Female|        1.0|\n",
      "|    Spain|     2.0|Female|        1.0|\n",
      "|    Spain|     2.0|  Male|        0.0|\n",
      "|   France|     0.0|  Male|        0.0|\n",
      "|  Germany|     1.0|Female|        1.0|\n",
      "|   France|     0.0|  Male|        0.0|\n",
      "|   France|     0.0|  Male|        0.0|\n",
      "|   France|     0.0|  Male|        0.0|\n",
      "|    Spain|     2.0|  Male|        0.0|\n",
      "|   France|     0.0|Female|        1.0|\n",
      "|   France|     0.0|Female|        1.0|\n",
      "|    Spain|     2.0|Female|        1.0|\n",
      "|  Germany|     1.0|  Male|        0.0|\n",
      "|  Germany|     1.0|  Male|        0.0|\n",
      "|    Spain|     2.0|Female|        1.0|\n",
      "|    Spain|     2.0|  Male|        0.0|\n",
      "|   France|     0.0|Female|        1.0|\n",
      "+---------+--------+------+-----------+\n",
      "only showing top 20 rows\n",
      "\n"
     ]
    }
   ],
   "source": [
    "df.select(['Geography','GeoIndex','Gender','GenderIndex']).show() #data after being string indexed"
   ]
  },
  {
   "cell_type": "markdown",
   "id": "4184df14",
   "metadata": {},
   "source": [
    "## OneHot encoder"
   ]
  },
  {
   "cell_type": "code",
   "execution_count": 16,
   "id": "7adb580b",
   "metadata": {},
   "outputs": [],
   "source": [
    "ohe = OneHotEncoder(inputCol='GeoIndex',outputCol='GeoOneHot')"
   ]
  },
  {
   "cell_type": "code",
   "execution_count": 17,
   "id": "08487d00",
   "metadata": {},
   "outputs": [],
   "source": [
    "df = ohe.fit(df).transform(df)"
   ]
  },
  {
   "cell_type": "code",
   "execution_count": 18,
   "id": "1fb7aa3d",
   "metadata": {},
   "outputs": [
    {
     "name": "stdout",
     "output_type": "stream",
     "text": [
      "+---------+--------+-------------+\n",
      "|Geography|GeoIndex|    GeoOneHot|\n",
      "+---------+--------+-------------+\n",
      "|   France|     0.0|(2,[0],[1.0])|\n",
      "|    Spain|     2.0|    (2,[],[])|\n",
      "|   France|     0.0|(2,[0],[1.0])|\n",
      "|   France|     0.0|(2,[0],[1.0])|\n",
      "|    Spain|     2.0|    (2,[],[])|\n",
      "|    Spain|     2.0|    (2,[],[])|\n",
      "|   France|     0.0|(2,[0],[1.0])|\n",
      "|  Germany|     1.0|(2,[1],[1.0])|\n",
      "|   France|     0.0|(2,[0],[1.0])|\n",
      "|   France|     0.0|(2,[0],[1.0])|\n",
      "|   France|     0.0|(2,[0],[1.0])|\n",
      "|    Spain|     2.0|    (2,[],[])|\n",
      "|   France|     0.0|(2,[0],[1.0])|\n",
      "|   France|     0.0|(2,[0],[1.0])|\n",
      "|    Spain|     2.0|    (2,[],[])|\n",
      "|  Germany|     1.0|(2,[1],[1.0])|\n",
      "|  Germany|     1.0|(2,[1],[1.0])|\n",
      "|    Spain|     2.0|    (2,[],[])|\n",
      "|    Spain|     2.0|    (2,[],[])|\n",
      "|   France|     0.0|(2,[0],[1.0])|\n",
      "+---------+--------+-------------+\n",
      "only showing top 20 rows\n",
      "\n"
     ]
    }
   ],
   "source": [
    "df.select(['Geography','GeoIndex','GeoOneHot']).show() #data after one hot encoding"
   ]
  },
  {
   "cell_type": "markdown",
   "id": "bf54f803",
   "metadata": {},
   "source": [
    "## Assembling data"
   ]
  },
  {
   "cell_type": "code",
   "execution_count": 19,
   "id": "4d3b7b3f",
   "metadata": {
    "scrolled": true
   },
   "outputs": [
    {
     "name": "stdout",
     "output_type": "stream",
     "text": [
      "root\n",
      " |-- RowNumber: integer (nullable = true)\n",
      " |-- CustomerId: integer (nullable = true)\n",
      " |-- Surname: string (nullable = true)\n",
      " |-- CreditScore: integer (nullable = true)\n",
      " |-- Geography: string (nullable = true)\n",
      " |-- Gender: string (nullable = true)\n",
      " |-- Age: integer (nullable = true)\n",
      " |-- Tenure: integer (nullable = true)\n",
      " |-- Balance: double (nullable = true)\n",
      " |-- NumOfProducts: integer (nullable = true)\n",
      " |-- HasCrCard: integer (nullable = true)\n",
      " |-- IsActiveMember: integer (nullable = true)\n",
      " |-- EstimatedSalary: double (nullable = true)\n",
      " |-- Exited: integer (nullable = true)\n",
      " |-- GeoIndex: double (nullable = false)\n",
      " |-- GenderIndex: double (nullable = false)\n",
      " |-- GeoOneHot: vector (nullable = true)\n",
      "\n"
     ]
    }
   ],
   "source": [
    "df.printSchema()"
   ]
  },
  {
   "cell_type": "code",
   "execution_count": 20,
   "id": "bea88aa6",
   "metadata": {},
   "outputs": [
    {
     "data": {
      "text/plain": [
       "['RowNumber',\n",
       " 'CustomerId',\n",
       " 'Surname',\n",
       " 'CreditScore',\n",
       " 'Geography',\n",
       " 'Gender',\n",
       " 'Age',\n",
       " 'Tenure',\n",
       " 'Balance',\n",
       " 'NumOfProducts',\n",
       " 'HasCrCard',\n",
       " 'IsActiveMember',\n",
       " 'EstimatedSalary',\n",
       " 'Exited',\n",
       " 'GeoIndex',\n",
       " 'GenderIndex',\n",
       " 'GeoOneHot']"
      ]
     },
     "execution_count": 20,
     "metadata": {},
     "output_type": "execute_result"
    }
   ],
   "source": [
    "df.columns"
   ]
  },
  {
   "cell_type": "code",
   "execution_count": 21,
   "id": "9c269e7d",
   "metadata": {
    "scrolled": true
   },
   "outputs": [
    {
     "name": "stdout",
     "output_type": "stream",
     "text": [
      "-RECORD 0------------------------\n",
      " RowNumber       | 1             \n",
      " CustomerId      | 15634602      \n",
      " Surname         | Hargrave      \n",
      " CreditScore     | 619           \n",
      " Geography       | France        \n",
      " Gender          | Female        \n",
      " Age             | 42            \n",
      " Tenure          | 2             \n",
      " Balance         | 0.0           \n",
      " NumOfProducts   | 1             \n",
      " HasCrCard       | 1             \n",
      " IsActiveMember  | 1             \n",
      " EstimatedSalary | 101348.88     \n",
      " Exited          | 1             \n",
      " GeoIndex        | 0.0           \n",
      " GenderIndex     | 1.0           \n",
      " GeoOneHot       | (2,[0],[1.0]) \n",
      "only showing top 1 row\n",
      "\n"
     ]
    }
   ],
   "source": [
    "df.show(n=1, truncate=False, vertical=True)"
   ]
  },
  {
   "cell_type": "code",
   "execution_count": 22,
   "id": "e1475df7",
   "metadata": {},
   "outputs": [],
   "source": [
    "assembler = VectorAssembler(inputCols=['CreditScore', 'Age', 'Tenure', 'Balance', 'NumOfProducts', \n",
    "                                       'HasCrCard', 'IsActiveMember', 'EstimatedSalary', 'GenderIndex', \n",
    "                                       'GeoOneHot'], \n",
    "                            outputCol='features')\n",
    "df = assembler.transform(df)"
   ]
  },
  {
   "cell_type": "code",
   "execution_count": 23,
   "id": "f0cf1648",
   "metadata": {},
   "outputs": [],
   "source": [
    "dfML = df.select(['features','Exited']).withColumnRenamed('Exited','label')"
   ]
  },
  {
   "cell_type": "code",
   "execution_count": 24,
   "id": "3d37c753",
   "metadata": {},
   "outputs": [
    {
     "name": "stdout",
     "output_type": "stream",
     "text": [
      "-RECORD 0-----------------------------------------------------------------------\n",
      " RowNumber       | 1                                                            \n",
      " CustomerId      | 15634602                                                     \n",
      " Surname         | Hargrave                                                     \n",
      " CreditScore     | 619                                                          \n",
      " Geography       | France                                                       \n",
      " Gender          | Female                                                       \n",
      " Age             | 42                                                           \n",
      " Tenure          | 2                                                            \n",
      " Balance         | 0.0                                                          \n",
      " NumOfProducts   | 1                                                            \n",
      " HasCrCard       | 1                                                            \n",
      " IsActiveMember  | 1                                                            \n",
      " EstimatedSalary | 101348.88                                                    \n",
      " Exited          | 1                                                            \n",
      " GeoIndex        | 0.0                                                          \n",
      " GenderIndex     | 1.0                                                          \n",
      " GeoOneHot       | (2,[0],[1.0])                                                \n",
      " features        | [619.0,42.0,2.0,0.0,1.0,1.0,1.0,101348.88,1.0,1.0,0.0]       \n",
      "-RECORD 1-----------------------------------------------------------------------\n",
      " RowNumber       | 2                                                            \n",
      " CustomerId      | 15647311                                                     \n",
      " Surname         | Hill                                                         \n",
      " CreditScore     | 608                                                          \n",
      " Geography       | Spain                                                        \n",
      " Gender          | Female                                                       \n",
      " Age             | 41                                                           \n",
      " Tenure          | 1                                                            \n",
      " Balance         | 83807.86                                                     \n",
      " NumOfProducts   | 1                                                            \n",
      " HasCrCard       | 0                                                            \n",
      " IsActiveMember  | 1                                                            \n",
      " EstimatedSalary | 112542.58                                                    \n",
      " Exited          | 0                                                            \n",
      " GeoIndex        | 2.0                                                          \n",
      " GenderIndex     | 1.0                                                          \n",
      " GeoOneHot       | (2,[],[])                                                    \n",
      " features        | [608.0,41.0,1.0,83807.86,1.0,0.0,1.0,112542.58,1.0,0.0,0.0]  \n",
      "-RECORD 2-----------------------------------------------------------------------\n",
      " RowNumber       | 3                                                            \n",
      " CustomerId      | 15619304                                                     \n",
      " Surname         | Onio                                                         \n",
      " CreditScore     | 502                                                          \n",
      " Geography       | France                                                       \n",
      " Gender          | Female                                                       \n",
      " Age             | 42                                                           \n",
      " Tenure          | 8                                                            \n",
      " Balance         | 159660.8                                                     \n",
      " NumOfProducts   | 3                                                            \n",
      " HasCrCard       | 1                                                            \n",
      " IsActiveMember  | 0                                                            \n",
      " EstimatedSalary | 113931.57                                                    \n",
      " Exited          | 1                                                            \n",
      " GeoIndex        | 0.0                                                          \n",
      " GenderIndex     | 1.0                                                          \n",
      " GeoOneHot       | (2,[0],[1.0])                                                \n",
      " features        | [502.0,42.0,8.0,159660.8,3.0,1.0,0.0,113931.57,1.0,1.0,0.0]  \n",
      "-RECORD 3-----------------------------------------------------------------------\n",
      " RowNumber       | 4                                                            \n",
      " CustomerId      | 15701354                                                     \n",
      " Surname         | Boni                                                         \n",
      " CreditScore     | 699                                                          \n",
      " Geography       | France                                                       \n",
      " Gender          | Female                                                       \n",
      " Age             | 39                                                           \n",
      " Tenure          | 1                                                            \n",
      " Balance         | 0.0                                                          \n",
      " NumOfProducts   | 2                                                            \n",
      " HasCrCard       | 0                                                            \n",
      " IsActiveMember  | 0                                                            \n",
      " EstimatedSalary | 93826.63                                                     \n",
      " Exited          | 0                                                            \n",
      " GeoIndex        | 0.0                                                          \n",
      " GenderIndex     | 1.0                                                          \n",
      " GeoOneHot       | (2,[0],[1.0])                                                \n",
      " features        | [699.0,39.0,1.0,0.0,2.0,0.0,0.0,93826.63,1.0,1.0,0.0]        \n",
      "-RECORD 4-----------------------------------------------------------------------\n",
      " RowNumber       | 5                                                            \n",
      " CustomerId      | 15737888                                                     \n",
      " Surname         | Mitchell                                                     \n",
      " CreditScore     | 850                                                          \n",
      " Geography       | Spain                                                        \n",
      " Gender          | Female                                                       \n",
      " Age             | 43                                                           \n",
      " Tenure          | 2                                                            \n",
      " Balance         | 125510.82                                                    \n",
      " NumOfProducts   | 1                                                            \n",
      " HasCrCard       | 1                                                            \n",
      " IsActiveMember  | 1                                                            \n",
      " EstimatedSalary | 79084.1                                                      \n",
      " Exited          | 0                                                            \n",
      " GeoIndex        | 2.0                                                          \n",
      " GenderIndex     | 1.0                                                          \n",
      " GeoOneHot       | (2,[],[])                                                    \n",
      " features        | [850.0,43.0,2.0,125510.82,1.0,1.0,1.0,79084.1,1.0,0.0,0.0]   \n",
      "-RECORD 5-----------------------------------------------------------------------\n",
      " RowNumber       | 6                                                            \n",
      " CustomerId      | 15574012                                                     \n",
      " Surname         | Chu                                                          \n",
      " CreditScore     | 645                                                          \n",
      " Geography       | Spain                                                        \n",
      " Gender          | Male                                                         \n",
      " Age             | 44                                                           \n",
      " Tenure          | 8                                                            \n",
      " Balance         | 113755.78                                                    \n",
      " NumOfProducts   | 2                                                            \n",
      " HasCrCard       | 1                                                            \n",
      " IsActiveMember  | 0                                                            \n",
      " EstimatedSalary | 149756.71                                                    \n",
      " Exited          | 1                                                            \n",
      " GeoIndex        | 2.0                                                          \n",
      " GenderIndex     | 0.0                                                          \n",
      " GeoOneHot       | (2,[],[])                                                    \n",
      " features        | [645.0,44.0,8.0,113755.78,2.0,1.0,0.0,149756.71,0.0,0.0,0.0] \n",
      "-RECORD 6-----------------------------------------------------------------------\n",
      " RowNumber       | 7                                                            \n",
      " CustomerId      | 15592531                                                     \n",
      " Surname         | Bartlett                                                     \n",
      " CreditScore     | 822                                                          \n",
      " Geography       | France                                                       \n",
      " Gender          | Male                                                         \n",
      " Age             | 50                                                           \n",
      " Tenure          | 7                                                            \n",
      " Balance         | 0.0                                                          \n",
      " NumOfProducts   | 2                                                            \n",
      " HasCrCard       | 1                                                            \n",
      " IsActiveMember  | 1                                                            \n",
      " EstimatedSalary | 10062.8                                                      \n",
      " Exited          | 0                                                            \n",
      " GeoIndex        | 0.0                                                          \n",
      " GenderIndex     | 0.0                                                          \n",
      " GeoOneHot       | (2,[0],[1.0])                                                \n",
      " features        | [822.0,50.0,7.0,0.0,2.0,1.0,1.0,10062.8,0.0,1.0,0.0]         \n",
      "-RECORD 7-----------------------------------------------------------------------\n",
      " RowNumber       | 8                                                            \n",
      " CustomerId      | 15656148                                                     \n",
      " Surname         | Obinna                                                       \n",
      " CreditScore     | 376                                                          \n",
      " Geography       | Germany                                                      \n",
      " Gender          | Female                                                       \n",
      " Age             | 29                                                           \n",
      " Tenure          | 4                                                            \n",
      " Balance         | 115046.74                                                    \n",
      " NumOfProducts   | 4                                                            \n",
      " HasCrCard       | 1                                                            \n",
      " IsActiveMember  | 0                                                            \n",
      " EstimatedSalary | 119346.88                                                    \n",
      " Exited          | 1                                                            \n",
      " GeoIndex        | 1.0                                                          \n",
      " GenderIndex     | 1.0                                                          \n",
      " GeoOneHot       | (2,[1],[1.0])                                                \n",
      " features        | [376.0,29.0,4.0,115046.74,4.0,1.0,0.0,119346.88,1.0,0.0,1.0] \n",
      "-RECORD 8-----------------------------------------------------------------------\n",
      " RowNumber       | 9                                                            \n",
      " CustomerId      | 15792365                                                     \n",
      " Surname         | He                                                           \n",
      " CreditScore     | 501                                                          \n",
      " Geography       | France                                                       \n",
      " Gender          | Male                                                         \n",
      " Age             | 44                                                           \n",
      " Tenure          | 4                                                            \n",
      " Balance         | 142051.07                                                    \n",
      " NumOfProducts   | 2                                                            \n",
      " HasCrCard       | 0                                                            \n",
      " IsActiveMember  | 1                                                            \n",
      " EstimatedSalary | 74940.5                                                      \n",
      " Exited          | 0                                                            \n",
      " GeoIndex        | 0.0                                                          \n",
      " GenderIndex     | 0.0                                                          \n",
      " GeoOneHot       | (2,[0],[1.0])                                                \n",
      " features        | [501.0,44.0,4.0,142051.07,2.0,0.0,1.0,74940.5,0.0,1.0,0.0]   \n",
      "-RECORD 9-----------------------------------------------------------------------\n",
      " RowNumber       | 10                                                           \n",
      " CustomerId      | 15592389                                                     \n",
      " Surname         | H?                                                           \n",
      " CreditScore     | 684                                                          \n",
      " Geography       | France                                                       \n",
      " Gender          | Male                                                         \n",
      " Age             | 27                                                           \n",
      " Tenure          | 2                                                            \n",
      " Balance         | 134603.88                                                    \n",
      " NumOfProducts   | 1                                                            \n",
      " HasCrCard       | 1                                                            \n",
      " IsActiveMember  | 1                                                            \n",
      " EstimatedSalary | 71725.73                                                     \n",
      " Exited          | 0                                                            \n",
      " GeoIndex        | 0.0                                                          \n",
      " GenderIndex     | 0.0                                                          \n",
      " GeoOneHot       | (2,[0],[1.0])                                                \n",
      " features        | [684.0,27.0,2.0,134603.88,1.0,1.0,1.0,71725.73,0.0,1.0,0.0]  \n",
      "-RECORD 10----------------------------------------------------------------------\n",
      " RowNumber       | 11                                                           \n",
      " CustomerId      | 15767821                                                     \n",
      " Surname         | Bearce                                                       \n",
      " CreditScore     | 528                                                          \n",
      " Geography       | France                                                       \n",
      " Gender          | Male                                                         \n",
      " Age             | 31                                                           \n",
      " Tenure          | 6                                                            \n",
      " Balance         | 102016.72                                                    \n",
      " NumOfProducts   | 2                                                            \n",
      " HasCrCard       | 0                                                            \n",
      " IsActiveMember  | 0                                                            \n",
      " EstimatedSalary | 80181.12                                                     \n",
      " Exited          | 0                                                            \n",
      " GeoIndex        | 0.0                                                          \n",
      " GenderIndex     | 0.0                                                          \n",
      " GeoOneHot       | (2,[0],[1.0])                                                \n",
      " features        | [528.0,31.0,6.0,102016.72,2.0,0.0,0.0,80181.12,0.0,1.0,0.0]  \n",
      "-RECORD 11----------------------------------------------------------------------\n",
      " RowNumber       | 12                                                           \n",
      " CustomerId      | 15737173                                                     \n",
      " Surname         | Andrews                                                      \n",
      " CreditScore     | 497                                                          \n",
      " Geography       | Spain                                                        \n",
      " Gender          | Male                                                         \n",
      " Age             | 24                                                           \n",
      " Tenure          | 3                                                            \n",
      " Balance         | 0.0                                                          \n",
      " NumOfProducts   | 2                                                            \n",
      " HasCrCard       | 1                                                            \n",
      " IsActiveMember  | 0                                                            \n",
      " EstimatedSalary | 76390.01                                                     \n",
      " Exited          | 0                                                            \n",
      " GeoIndex        | 2.0                                                          \n",
      " GenderIndex     | 0.0                                                          \n",
      " GeoOneHot       | (2,[],[])                                                    \n",
      " features        | (11,[0,1,2,4,5,7],[497.0,24.0,3.0,2.0,1.0,76390.01])         \n",
      "only showing top 12 rows\n",
      "\n"
     ]
    }
   ],
   "source": [
    "df.show(n=12,vertical=True, truncate=False)"
   ]
  },
  {
   "cell_type": "code",
   "execution_count": 25,
   "id": "c591e7d2",
   "metadata": {},
   "outputs": [
    {
     "data": {
      "text/plain": [
       "[Row(features=DenseVector([619.0, 42.0, 2.0, 0.0, 1.0, 1.0, 1.0, 101348.88, 1.0, 1.0, 0.0]), label=1),\n",
       " Row(features=DenseVector([608.0, 41.0, 1.0, 83807.86, 1.0, 0.0, 1.0, 112542.58, 1.0, 0.0, 0.0]), label=0),\n",
       " Row(features=DenseVector([502.0, 42.0, 8.0, 159660.8, 3.0, 1.0, 0.0, 113931.57, 1.0, 1.0, 0.0]), label=1),\n",
       " Row(features=DenseVector([699.0, 39.0, 1.0, 0.0, 2.0, 0.0, 0.0, 93826.63, 1.0, 1.0, 0.0]), label=0),\n",
       " Row(features=DenseVector([850.0, 43.0, 2.0, 125510.82, 1.0, 1.0, 1.0, 79084.1, 1.0, 0.0, 0.0]), label=0),\n",
       " Row(features=DenseVector([645.0, 44.0, 8.0, 113755.78, 2.0, 1.0, 0.0, 149756.71, 0.0, 0.0, 0.0]), label=1),\n",
       " Row(features=DenseVector([822.0, 50.0, 7.0, 0.0, 2.0, 1.0, 1.0, 10062.8, 0.0, 1.0, 0.0]), label=0),\n",
       " Row(features=DenseVector([376.0, 29.0, 4.0, 115046.74, 4.0, 1.0, 0.0, 119346.88, 1.0, 0.0, 1.0]), label=1),\n",
       " Row(features=DenseVector([501.0, 44.0, 4.0, 142051.07, 2.0, 0.0, 1.0, 74940.5, 0.0, 1.0, 0.0]), label=0),\n",
       " Row(features=DenseVector([684.0, 27.0, 2.0, 134603.88, 1.0, 1.0, 1.0, 71725.73, 0.0, 1.0, 0.0]), label=0),\n",
       " Row(features=DenseVector([528.0, 31.0, 6.0, 102016.72, 2.0, 0.0, 0.0, 80181.12, 0.0, 1.0, 0.0]), label=0),\n",
       " Row(features=SparseVector(11, {0: 497.0, 1: 24.0, 2: 3.0, 4: 2.0, 5: 1.0, 7: 76390.01}), label=0)]"
      ]
     },
     "execution_count": 25,
     "metadata": {},
     "output_type": "execute_result"
    }
   ],
   "source": [
    "dfML.head(12)"
   ]
  },
  {
   "cell_type": "code",
   "execution_count": 26,
   "id": "6c7a5be2",
   "metadata": {
    "scrolled": false
   },
   "outputs": [
    {
     "name": "stdout",
     "output_type": "stream",
     "text": [
      "+--------------------+-----+\n",
      "|            features|label|\n",
      "+--------------------+-----+\n",
      "|[619.0,42.0,2.0,0...|    1|\n",
      "|[608.0,41.0,1.0,8...|    0|\n",
      "|[502.0,42.0,8.0,1...|    1|\n",
      "|[699.0,39.0,1.0,0...|    0|\n",
      "|[850.0,43.0,2.0,1...|    0|\n",
      "|[645.0,44.0,8.0,1...|    1|\n",
      "|[822.0,50.0,7.0,0...|    0|\n",
      "|[376.0,29.0,4.0,1...|    1|\n",
      "|[501.0,44.0,4.0,1...|    0|\n",
      "|[684.0,27.0,2.0,1...|    0|\n",
      "|[528.0,31.0,6.0,1...|    0|\n",
      "|(11,[0,1,2,4,5,7]...|    0|\n",
      "|[476.0,34.0,10.0,...|    0|\n",
      "|[549.0,25.0,5.0,0...|    0|\n",
      "|[635.0,35.0,7.0,0...|    0|\n",
      "|[616.0,45.0,3.0,1...|    0|\n",
      "|[653.0,58.0,1.0,1...|    1|\n",
      "|[549.0,24.0,9.0,0...|    0|\n",
      "|(11,[0,1,2,4,7],[...|    0|\n",
      "|[726.0,24.0,6.0,0...|    0|\n",
      "+--------------------+-----+\n",
      "only showing top 20 rows\n",
      "\n"
     ]
    }
   ],
   "source": [
    "dfML.show()"
   ]
  },
  {
   "cell_type": "markdown",
   "id": "eb66ac16",
   "metadata": {},
   "source": [
    "## Train test split"
   ]
  },
  {
   "cell_type": "code",
   "execution_count": 27,
   "id": "d8aaf4e2",
   "metadata": {},
   "outputs": [
    {
     "data": {
      "text/plain": [
       "(8079, 1921)"
      ]
     },
     "execution_count": 27,
     "metadata": {},
     "output_type": "execute_result"
    }
   ],
   "source": [
    "trainData, testData = dfML.randomSplit([0.8, 0.2], seed=42) #split data to prevent overfitting\n",
    "trainData.count(), testData.count()"
   ]
  },
  {
   "cell_type": "markdown",
   "id": "f68ddeb3",
   "metadata": {},
   "source": [
    "## Standardizing"
   ]
  },
  {
   "cell_type": "code",
   "execution_count": 28,
   "id": "20e9e2f7",
   "metadata": {},
   "outputs": [],
   "source": [
    "standardScaler = StandardScaler(inputCol='features', outputCol='featuresScaled')\n",
    "\n",
    "trainData = standardScaler.fit(trainData).transform(trainData)\n",
    "testData = standardScaler.fit(testData).transform(testData)"
   ]
  },
  {
   "cell_type": "code",
   "execution_count": 29,
   "id": "e0165d17",
   "metadata": {},
   "outputs": [
    {
     "name": "stdout",
     "output_type": "stream",
     "text": [
      "+--------------------+-----+--------------------+\n",
      "|            features|label|      featuresScaled|\n",
      "+--------------------+-----+--------------------+\n",
      "|(11,[0,1,2,3,4,7]...|    0|(11,[0,1,2,3,4,7]...|\n",
      "|(11,[0,1,2,3,4,7]...|    0|(11,[0,1,2,3,4,7]...|\n",
      "|(11,[0,1,2,3,4,7]...|    0|(11,[0,1,2,3,4,7]...|\n",
      "|(11,[0,1,2,3,4,7]...|    0|(11,[0,1,2,3,4,7]...|\n",
      "|(11,[0,1,2,3,4,7]...|    0|(11,[0,1,2,3,4,7]...|\n",
      "|(11,[0,1,2,3,4,7]...|    0|(11,[0,1,2,3,4,7]...|\n",
      "|(11,[0,1,2,3,4,7]...|    0|(11,[0,1,2,3,4,7]...|\n",
      "|(11,[0,1,2,3,4,7]...|    0|(11,[0,1,2,3,4,7]...|\n",
      "|(11,[0,1,2,3,4,7]...|    0|(11,[0,1,2,3,4,7]...|\n",
      "|(11,[0,1,2,3,4,7]...|    0|(11,[0,1,2,3,4,7]...|\n",
      "|(11,[0,1,2,3,4,7]...|    0|(11,[0,1,2,3,4,7]...|\n",
      "|(11,[0,1,2,3,4,7]...|    1|(11,[0,1,2,3,4,7]...|\n",
      "|(11,[0,1,2,3,4,7]...|    0|(11,[0,1,2,3,4,7]...|\n",
      "|(11,[0,1,2,3,4,7]...|    1|(11,[0,1,2,3,4,7]...|\n",
      "|(11,[0,1,2,3,4,7]...|    1|(11,[0,1,2,3,4,7]...|\n",
      "|(11,[0,1,2,3,4,7]...|    1|(11,[0,1,2,3,4,7]...|\n",
      "|(11,[0,1,2,3,4,7]...|    0|(11,[0,1,2,3,4,7]...|\n",
      "|(11,[0,1,2,3,4,7]...|    0|(11,[0,1,2,3,4,7]...|\n",
      "|(11,[0,1,2,3,4,7]...|    0|(11,[0,1,2,3,4,7]...|\n",
      "|(11,[0,1,2,3,4,7]...|    0|(11,[0,1,2,3,4,7]...|\n",
      "+--------------------+-----+--------------------+\n",
      "only showing top 20 rows\n",
      "\n"
     ]
    }
   ],
   "source": [
    "trainData.show()"
   ]
  },
  {
   "cell_type": "markdown",
   "id": "a982ba6b",
   "metadata": {},
   "source": [
    "## Model fitting"
   ]
  },
  {
   "cell_type": "code",
   "execution_count": 30,
   "id": "4387a070",
   "metadata": {},
   "outputs": [],
   "source": [
    "logReg = LogisticRegression(featuresCol='featuresScaled')\n",
    "dtc = DecisionTreeClassifier(featuresCol='featuresScaled', seed=42)\n",
    "rfc = RandomForestClassifier(featuresCol='featuresScaled', seed=42)\n",
    "gbt = GBTClassifier(featuresCol='featuresScaled', seed=42)"
   ]
  },
  {
   "cell_type": "code",
   "execution_count": 31,
   "id": "3dbc3a41",
   "metadata": {},
   "outputs": [],
   "source": [
    "logRegModel = logReg.fit(trainData)\n",
    "dtcModel = dtc.fit(trainData)\n",
    "rfcModel = rfc.fit(trainData)\n",
    "gbtModel = gbt.fit(trainData)"
   ]
  },
  {
   "cell_type": "code",
   "execution_count": 32,
   "id": "0219227c",
   "metadata": {},
   "outputs": [],
   "source": [
    "logRegTestResult = logRegModel.transform(testData)\n",
    "dtcTestResult = dtcModel.transform(testData)\n",
    "rfcTestResult = rfcModel.transform(testData)\n",
    "gbtTestResult = gbtModel.transform(testData)"
   ]
  },
  {
   "cell_type": "markdown",
   "id": "241b741e",
   "metadata": {},
   "source": [
    "## Evaluation"
   ]
  },
  {
   "cell_type": "code",
   "execution_count": 33,
   "id": "4373f8b6",
   "metadata": {},
   "outputs": [],
   "source": [
    "aocEval = BinaryClassificationEvaluator(labelCol='label')\n",
    "accEval = MulticlassClassificationEvaluator(labelCol='label', metricName='accuracy')"
   ]
  },
  {
   "cell_type": "code",
   "execution_count": 34,
   "id": "ed843c0f",
   "metadata": {},
   "outputs": [],
   "source": [
    "allModel = [logRegTestResult, dtcTestResult, rfcTestResult, gbtTestResult]\n",
    "allModelName = ['Logistic Regression', 'Decision Tree', 'Random Forest', 'Gradient Boosted']"
   ]
  },
  {
   "cell_type": "code",
   "execution_count": 35,
   "id": "109aea23",
   "metadata": {
    "scrolled": false
   },
   "outputs": [
    {
     "name": "stdout",
     "output_type": "stream",
     "text": [
      "Logistic Regression accuracy : 76.42 aoc : 79.8\n",
      "Decision Tree accuracy : 32.31 aoc : 85.48\n",
      "Random Forest accuracy : 82.69 aoc : 84.17\n",
      "Gradient Boosted accuracy : 85.56 aoc : 85.27\n"
     ]
    }
   ],
   "source": [
    "for i in range(0, len(allModel)):\n",
    "    print(allModelName[i], 'accuracy :' ,round(aocEval.evaluate(allModel[i])*100,2), 'aoc :' ,round(accEval.evaluate(allModel[i])*100,2))"
   ]
  },
  {
   "cell_type": "markdown",
   "id": "a80bc82f",
   "metadata": {},
   "source": [
    "## Feature importance"
   ]
  },
  {
   "cell_type": "code",
   "execution_count": 36,
   "id": "bf4875bb",
   "metadata": {},
   "outputs": [],
   "source": [
    "features = ['CreditScore', 'Age', 'Tenure', 'Balance', 'NumOfProducts', 'HasCrCard', 'IsActiveMember', \n",
    "            'EstimatedSalary', 'GenderIndex', 'GeoOneHot']"
   ]
  },
  {
   "cell_type": "code",
   "execution_count": 37,
   "id": "d740b9c0",
   "metadata": {
    "scrolled": true
   },
   "outputs": [
    {
     "name": "stdout",
     "output_type": "stream",
     "text": [
      "CreditScore : 0.19\n",
      "Age : 48.3\n",
      "Tenure : 0.35\n",
      "Balance : 1.57\n",
      "NumOfProducts : 30.95\n",
      "HasCrCard : 0.0\n",
      "IsActiveMember : 15.62\n",
      "EstimatedSalary : 0.66\n",
      "GenderIndex : 0.0\n",
      "GeoOneHot : 0.0\n"
     ]
    }
   ],
   "source": [
    "for i in range(0,len(features)):\n",
    "    print(features[i], ':', round(100*dtcModel.featureImportances[i],2))"
   ]
  },
  {
   "cell_type": "code",
   "execution_count": 38,
   "id": "b6515e83",
   "metadata": {
    "scrolled": true
   },
   "outputs": [
    {
     "name": "stdout",
     "output_type": "stream",
     "text": [
      "CreditScore : 0.38\n",
      "Age : 48.82\n",
      "Tenure : 0.48\n",
      "Balance : 2.38\n",
      "NumOfProducts : 29.91\n",
      "HasCrCard : 0.03\n",
      "IsActiveMember : 11.0\n",
      "EstimatedSalary : 0.45\n",
      "GenderIndex : 1.46\n",
      "GeoOneHot : 0.41\n"
     ]
    }
   ],
   "source": [
    "for i in range(0,len(features)):\n",
    "    print(features[i], ':', round(100*rfcModel.featureImportances[i],2))"
   ]
  },
  {
   "cell_type": "code",
   "execution_count": 39,
   "id": "7e89cf57",
   "metadata": {},
   "outputs": [
    {
     "name": "stdout",
     "output_type": "stream",
     "text": [
      "CreditScore : 5.94\n",
      "Age : 28.67\n",
      "Tenure : 4.08\n",
      "Balance : 18.03\n",
      "NumOfProducts : 16.46\n",
      "HasCrCard : 1.11\n",
      "IsActiveMember : 7.02\n",
      "EstimatedSalary : 5.85\n",
      "GenderIndex : 6.27\n",
      "GeoOneHot : 1.17\n"
     ]
    }
   ],
   "source": [
    "for i in range(0,len(features)):\n",
    "    print(features[i], ':', round(100*gbtModel.featureImportances[i],2))"
   ]
  }
 ],
 "metadata": {
  "kernelspec": {
   "display_name": "Python 3 (ipykernel)",
   "language": "python",
   "name": "python3"
  },
  "language_info": {
   "codemirror_mode": {
    "name": "ipython",
    "version": 3
   },
   "file_extension": ".py",
   "mimetype": "text/x-python",
   "name": "python",
   "nbconvert_exporter": "python",
   "pygments_lexer": "ipython3",
   "version": "3.10.4"
  }
 },
 "nbformat": 4,
 "nbformat_minor": 5
}
